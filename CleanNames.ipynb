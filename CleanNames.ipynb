{
 "cells": [
  {
   "cell_type": "markdown",
   "metadata": {},
   "source": [
    "# Clean ill named regions, provinces and municipalities"
   ]
  },
  {
   "cell_type": "code",
   "execution_count": null,
   "metadata": {},
   "outputs": [],
   "source": [
    "import json\n",
    "# Regions\n",
    "with open('geojson-italy-master/geojson/IT_regions.json') as f:\n",
    "    data = json.load(f)\n",
    "for i in range(20):\n",
    "    if data['features'][i]['properties']['reg_name'] == 'Trentino-Alto Adige/SÃ¼dtirol':\n",
    "        data['features'][i]['properties']['reg_name'] = 'Trentino-Alto Adige'\n",
    "    if data['features'][i]['properties']['reg_name'] == \"Valle d'Aosta/VallÃ©e d'Aoste\":\n",
    "        data['features'][i]['properties']['reg_name'] = \"Valle d'Aosta\"\n",
    "with open('IT_Regions.json', 'w') as fp:\n",
    "    json.dump(data, fp)\n",
    "    \n",
    "# Provinces\n",
    "with open('geojson-italy-master/geojson/IT_provinces.json') as f:\n",
    "    data = json.load(f)\n",
    "for i in range(107):\n",
    "    if data['features'][i]['properties']['prov_name'] == 'Bolzano/Bozen':\n",
    "        data['features'][i]['properties']['prov_name'] = 'Bolzano'\n",
    "    if data['features'][i]['properties']['prov_name'] == 'ForlÃ¬-Cesena':\n",
    "        data['features'][i]['properties']['prov_name'] = 'F-Cesena'\n",
    "    if data['features'][i]['properties']['prov_name'] == \"Valle d'Aosta/VallÃ©e d'Aoste\":\n",
    "        data['features'][i]['properties']['prov_name'] = \"Valle d'Aosta\"\n",
    "    if data['features'][i]['properties']['reg_name'] == 'Trentino-Alto Adige/SÃ¼dtirol':\n",
    "        data['features'][i]['properties']['reg_name'] = 'Trentino-Alto Adige'\n",
    "    if data['features'][i]['properties']['reg_name'] == \"Valle d'Aosta/VallÃ©e d'Aoste\":\n",
    "        data['features'][i]['properties']['reg_name'] = \"Valle d'Aosta\"\n",
    "with open('IT_Provinces.json', 'w') as fp:\n",
    "    json.dump(data, fp)\n",
    "    \n",
    "# Municipalities\n",
    "with open('geojson-italy-master/geojson/IT_municipalities.json') as f:\n",
    "    data = json.load(f)\n",
    "for i in range(7914):\n",
    "    if data['features'][i]['properties']['prov_name'] == 'Bolzano/Bozen':\n",
    "        data['features'][i]['properties']['prov_name'] = 'Bolzano'\n",
    "    if data['features'][i]['properties']['prov_name'] == 'ForlÃ¬-Cesena':\n",
    "        data['features'][i]['properties']['prov_name'] = 'F-Cesena'\n",
    "    if data['features'][i]['properties']['prov_name'] == \"Valle d'Aosta/VallÃ©e d'Aoste\":\n",
    "        data['features'][i]['properties']['prov_name'] = \"Valle d'Aosta\"\n",
    "    if data['features'][i]['properties']['reg_name'] == 'Trentino-Alto Adige/SÃ¼dtirol':\n",
    "        data['features'][i]['properties']['reg_name'] = 'Trentino-Alto Adige'\n",
    "    if data['features'][i]['properties']['reg_name'] == \"Valle d'Aosta/VallÃ©e d'Aoste\":\n",
    "        data['features'][i]['properties']['reg_name'] = \"Valle d'Aosta\"\n",
    "with open('IT_Municipalities.json', 'w') as fp:\n",
    "    json.dump(data, fp)"
   ]
  }
 ],
 "metadata": {
  "kernelspec": {
   "display_name": "Python 3",
   "language": "python",
   "name": "python3"
  },
  "language_info": {
   "codemirror_mode": {
    "name": "ipython",
    "version": 3
   },
   "file_extension": ".py",
   "mimetype": "text/x-python",
   "name": "python",
   "nbconvert_exporter": "python",
   "pygments_lexer": "ipython3",
   "version": "3.8.2"
  }
 },
 "nbformat": 4,
 "nbformat_minor": 4
}
