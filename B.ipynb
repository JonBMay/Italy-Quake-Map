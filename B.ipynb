{
 "cells": [
  {
   "cell_type": "markdown",
   "metadata": {},
   "source": [
    "# Part B: Data Ploting"
   ]
  },
  {
   "cell_type": "code",
   "execution_count": null,
   "metadata": {},
   "outputs": [],
   "source": [
    "import pandas as pd\n",
    "df_all = pd.read_csv('municipality.csv')"
   ]
  },
  {
   "cell_type": "code",
   "execution_count": null,
   "metadata": {},
   "outputs": [],
   "source": [
    "## Initialize\n",
    "Ristat = [i for i in range(1,21)]\n",
    "Pistat = set(i for i in range(1,107))\n",
    "\n",
    "df_plot = pd.DataFrame(columns=['Lat','Lon','Mw','reg_name','reg_istat','prov_name','prov_istat','munic_name'])\n",
    "df_plot = df_plot.astype({'Lat':float,'Lon':float,'Mw':float,'reg_name':str,'reg_istat':int,'prov_name':str,'prov_istat':int,'munic_name':str})\n",
    "Pistat = set()\n",
    "Ristat = []\n",
    "list_geo_data = []\n"
   ]
  },
  {
   "cell_type": "markdown",
   "metadata": {},
   "source": [
    "## Filter with Provinces"
   ]
  },
  {
   "cell_type": "code",
   "execution_count": null,
   "metadata": {},
   "outputs": [],
   "source": [
    "## list of provinces names to plot\n",
    "provinces = ['L\\'Aquila','Chieti','Teramo']\n",
    "\n",
    "## populate df_plot & Pistat\n",
    "for i in provinces:\n",
    "    X = df_all[df_all['prov_name'].str.match(i)]\n",
    "    df_plot = pd.concat([df_plot,X], ignore_index=True)\n",
    "    Pistat.add(X['prov_istat'].iloc[0])\n",
    "for P in Pistat:\n",
    "    lineP = 'geojson-italy-master/geojson/limits_P_'+str(P)+'_municipalities.geojson'\n",
    "    list_geo_data.append(lineP)\n",
    "\n",
    "#list_geo_data"
   ]
  },
  {
   "cell_type": "markdown",
   "metadata": {},
   "source": [
    "## Filter with Regions"
   ]
  },
  {
   "cell_type": "code",
   "execution_count": null,
   "metadata": {},
   "outputs": [],
   "source": [
    "## list of region names to plot\n",
    "provinces = ['Abruzzo','Lazio']\n",
    "\n",
    "## populate df_plot & Ristat\n",
    "for i in provinces:\n",
    "    X = df_all[df_all['reg_name'].str.match(i)]\n",
    "    df_plot = pd.concat([df_plot,X], ignore_index=True)\n",
    "    Ristat.append(X['reg_istat'].iloc[0])\n",
    "for R in Ristat:\n",
    "    lineR = 'geojson-italy-master/geojson/limits_R_'+str(R)+'_municipalities.geojson'\n",
    "    list_geo_data.append(lineR)\n",
    "\n",
    "#list_geo_data"
   ]
  },
  {
   "cell_type": "markdown",
   "metadata": {},
   "source": [
    "## Plot"
   ]
  },
  {
   "cell_type": "code",
   "execution_count": null,
   "metadata": {},
   "outputs": [],
   "source": [
    "df_loc = df_plot[[\"Lat\",\"Lon\",\"Mw\"]].copy() # Copy for later\n",
    "df_plot = df_plot.groupby(['munic_name']).size().to_frame('Count').reset_index()"
   ]
  },
  {
   "cell_type": "code",
   "execution_count": null,
   "metadata": {},
   "outputs": [],
   "source": [
    "## Generate colour map\n",
    "from branca.colormap import linear\n",
    "\n",
    "colormap = linear.YlOrRd_09.scale(\n",
    "    df_plot.Count.min(),\n",
    "    df_plot.Count.max())\n",
    "colormap\n",
    "\n",
    "## Create pandas series for choropleth\n",
    "plot_dict = df_plot.set_index('munic_name')['Count'] # plot_dict index 'munic_name' links to 'name' inside municipality json files\n",
    "#colormap"
   ]
  },
  {
   "cell_type": "code",
   "execution_count": null,
   "metadata": {},
   "outputs": [],
   "source": [
    "import folium\n",
    "import numpy as np\n",
    "def get_color(feature):\n",
    "    value = plot_dict.get(feature['properties']['name']) # feature[...] maps the index of plot_dict to its partner in json data file\n",
    "    if value is None:\n",
    "        return '#00000000' #00000000 -> Transparent\n",
    "    else:\n",
    "        return colormap(value)\n",
    "\n",
    "Lat=42.349850\n",
    "Lon=13.399509\n",
    "\n",
    "m = folium.Map([Lat,Lon], zoom_start=8)#,tiles='Stamen Terrain')\n",
    "\n",
    "for i in list_geo_data:\n",
    "  folium.GeoJson(\n",
    "    i,\n",
    "    name='earthquake/'+str(i),\n",
    "    style_function=lambda feature: {\n",
    "      'fillColor':get_color(feature),\n",
    "      'color': 'black',\n",
    "      'weight': 1,\n",
    "      'dashArray': '5, 5',\n",
    "      'fillOpacity': 0.9,\n",
    "    }\n",
    "  ).add_to(m)\n",
    "\n",
    "## Add map features\n",
    "for i in range(len(df_loc)):\n",
    "    folium.CircleMarker(\n",
    "        location=[df_loc.Lat[i],df_loc.Lon[i]],\n",
    "        radius=0.5,\n",
    "        fill=True,\n",
    "        popup=[format(np.float(df_loc.Lat[i]),'.2f'),format(np.float(df_loc.Lon[i]),'.2f'),format(df_loc.Mw[i],'.2f')],\n",
    "    ).add_to(m)    \n",
    "m.add_child(colormap)\n",
    "folium.LayerControl().add_to(m)\n",
    "\n",
    "## Show & Save\n",
    "m.save('Maps/EarthquakeMap.html')\n",
    "m"
   ]
  }
 ],
 "metadata": {
  "kernelspec": {
   "display_name": "Python 3",
   "language": "python",
   "name": "python3"
  },
  "language_info": {
   "codemirror_mode": {
    "name": "ipython",
    "version": 3
   },
   "file_extension": ".py",
   "mimetype": "text/x-python",
   "name": "python",
   "nbconvert_exporter": "python",
   "pygments_lexer": "ipython3",
   "version": "3.8.2"
  }
 },
 "nbformat": 4,
 "nbformat_minor": 4
}
